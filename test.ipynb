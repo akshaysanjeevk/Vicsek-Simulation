{
 "cells": [
  {
   "cell_type": "code",
   "execution_count": 7,
   "metadata": {},
   "outputs": [],
   "source": [
    "import numpy as np\n",
    "import matplotlib.pyplot as plt\n",
    "\n",
    "%run vicsek-fns.py\n",
    "\n",
    "N = 10 #number of boids\n",
    "\n",
    "xmin, xmax = 0, 10\n",
    "ymin, ymax = 0, 10\n",
    "\n",
    "initpos = np.random.uniform([xmin,ymin], [xmax,ymax], (N,2))\n",
    "initang = np.random.uniform(0, 2*np.pi, N)"
   ]
  },
  {
   "cell_type": "code",
   "execution_count": 8,
   "metadata": {},
   "outputs": [],
   "source": [
    "r, theta = VicsekSimulation(initpos, initang, 2, 1, 0.1, 1000)"
   ]
  },
  {
   "cell_type": "code",
   "execution_count": null,
   "metadata": {},
   "outputs": [
    {
     "name": "stdout",
     "output_type": "stream",
     "text": [
      "Video saved as particles.mp4\n"
     ]
    },
    {
     "ename": "NameError",
     "evalue": "name 'firefly' is not defined",
     "output_type": "error",
     "traceback": [
      "\u001b[1;31m---------------------------------------------------------------------------\u001b[0m",
      "\u001b[1;31mNameError\u001b[0m                                 Traceback (most recent call last)",
      "Cell \u001b[1;32mIn[9], line 3\u001b[0m\n\u001b[0;32m      1\u001b[0m x_data \u001b[38;5;241m=\u001b[39m r[:, \u001b[38;5;241m0\u001b[39m,:]\u001b[38;5;241m.\u001b[39mT\n\u001b[0;32m      2\u001b[0m y_data \u001b[38;5;241m=\u001b[39m r[:, \u001b[38;5;241m1\u001b[39m,:]\u001b[38;5;241m.\u001b[39mT\n\u001b[1;32m----> 3\u001b[0m generate_particle_video(x_data, y_data)\n",
      "File \u001b[1;32mD:\\IMSc\\git-projects\\Vicsek-Simulation\\vicsek-fns.py:62\u001b[0m, in \u001b[0;36mgenerate_particle_video\u001b[1;34m(x_data, y_data, output_filename, fps)\u001b[0m\n\u001b[0;32m     59\u001b[0m plt\u001b[38;5;241m.\u001b[39mclose(fig)\n\u001b[0;32m     61\u001b[0m \u001b[38;5;28mprint\u001b[39m(\u001b[38;5;124mf\u001b[39m\u001b[38;5;124m\"\u001b[39m\u001b[38;5;124mVideo saved as \u001b[39m\u001b[38;5;132;01m{\u001b[39;00moutput_filename\u001b[38;5;132;01m}\u001b[39;00m\u001b[38;5;124m\"\u001b[39m)\n\u001b[1;32m---> 62\u001b[0m cmap \u001b[38;5;241m=\u001b[39m firefly\n\u001b[0;32m     63\u001b[0m norm \u001b[38;5;241m=\u001b[39m plt\u001b[38;5;241m.\u001b[39mNormalize(\u001b[38;5;241m0\u001b[39m, \u001b[38;5;241m2\u001b[39m \u001b[38;5;241m*\u001b[39m np\u001b[38;5;241m.\u001b[39mpi)\n\u001b[0;32m     64\u001b[0m colors \u001b[38;5;241m=\u001b[39m [cmap(norm(phase)) \u001b[38;5;28;01mfor\u001b[39;00m phase \u001b[38;5;129;01min\u001b[39;00m theta0]\n",
      "\u001b[1;31mNameError\u001b[0m: name 'firefly' is not defined"
     ]
    }
   ],
   "source": [
    "x_data = r[:, 0,:].T\n",
    "y_data = r[:, 1,:].T\n",
    "generate_particle_video(x_data, y_data, theta)"
   ]
  }
 ],
 "metadata": {
  "kernelspec": {
   "display_name": "base",
   "language": "python",
   "name": "python3"
  },
  "language_info": {
   "codemirror_mode": {
    "name": "ipython",
    "version": 3
   },
   "file_extension": ".py",
   "mimetype": "text/x-python",
   "name": "python",
   "nbconvert_exporter": "python",
   "pygments_lexer": "ipython3",
   "version": "3.11.5"
  }
 },
 "nbformat": 4,
 "nbformat_minor": 2
}
